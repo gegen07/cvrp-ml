{
 "cells": [
  {
   "attachments": {},
   "cell_type": "markdown",
   "metadata": {},
   "source": [
    "## Capacitated Vehicle Routing Problem"
   ]
  },
  {
   "attachments": {},
   "cell_type": "markdown",
   "metadata": {},
   "source": [
    "$\\begin{array}{lllll}\n",
    "\\displaystyle \\textbf{Minimize}      & \\displaystyle \\sum_{k \\in K}\\sum_{(i,j) \\in E}{c_{ij}x_{ij}^k}     &&    & (1)                                                                               \\\\\n",
    "\\displaystyle \\textbf{Subject To}    & \\displaystyle \\sum_{k \\in K}\\sum_{i \\in V, i\\neq j}{x_{ij}^k} = 1    && \\forall j \\in V - \\{0\\}  & (2)                                                                               \\\\\n",
    "                                    & \\displaystyle \\sum_{j \\in V-\\{0\\}}{x_{0j}^k} = 1                               && \\forall k \\in K  & (3)                                                                               \\\\\n",
    "                                    & \\displaystyle \\sum_{i \\in V, i\\neq j}{x_{ij}^k} - \\sum_{i \\in V}{x_{ji}^k} = 0 && \\forall j \\in V, \\forall k \\in K & (4) \\\\\n",
    "                                    & \\displaystyle \\sum_{i \\in V}\\sum_{j \\in V-\\{0\\}, i \\neq j}{q_{ij} x_{ij}^k} \\leq Q && \\forall k \\in K & (5) \\\\\n",
    "                                    & \\displaystyle \\sum_{k \\in K}\\sum_{(i,j)\\in S, i \\neq j}{x_{ij}^k}\\leq |S|-1 && S \\subseteq V - \\{0\\} & (6) \\\\\n",
    "                                    & x_{ij}^k \\in \\{0,1\\} && \\forall k \\in K, \\forall (i,j) \\in E & (7) \\\\\n",
    "                                    &                                               &&                  &                                                                                   \\\\\n",
    "\\displaystyle \\textbf{Where}         && G(V,E)                                            & =                 & \\textrm{A graph showing the location and route of the customer}             \\\\\n",
    "                                    && V = \\{0, 1,\\ldots,n\\}                             & =                 & \\textrm{A collection of nodes. The node that represents the Depot is 0, and the nodes that represent each customer are 1 to }n                               \\\\\n",
    "                                    && E                                            & =                 & \\textrm{Set of Edges connecting each node }e_{ij} = (i,j)                     \\\\\n",
    "                                    && K = \\{1,2,\\ldots,|K|\\}                                            & =                 & \\textrm{Set of Vehicles}                    \\\\\n",
    "                                    && d_i \\geq 0                                       & =                 & \\textrm{Demand of customer } i   \\\\\n",
    "                                    && Q \\geq 0                                          & =                 & \\textrm{Maximum vehicle capacity (all vehicles have the same maximum capacity Q)}                                                                \\\\\n",
    "                                    && c_{ij}                                          & =   & \\textrm{Travel costs between customer } i \\textrm{ and } j\\\\\n",
    "                                    && x_{ij}^k                                          & =                 & \\begin{cases}\n",
    "                                                                                                                   1, \\textrm{if a vehicle } k \\textrm{ has taken the route } e_{ij}                                \\\\\n",
    "                                                                                                                   0, \\textrm{otherwise}                                                            \\\\\n",
    "                                                                                                                  \\end{cases}\n",
    "\\end{array}$"
   ]
  },
  {
   "cell_type": "code",
   "execution_count": 3,
   "metadata": {},
   "outputs": [],
   "source": [
    "import pandas as pd\n",
    "import numpy as np\n",
    "import pulp\n",
    "import itertools"
   ]
  },
  {
   "cell_type": "code",
   "execution_count": 2,
   "metadata": {},
   "outputs": [],
   "source": [
    "customer_count = 4\n",
    "vehicle_capacity = 50\n",
    "vehicle_count = 2\n",
    "depot_point = ()\n",
    "distance = [[]]"
   ]
  },
  {
   "cell_type": "code",
   "execution_count": null,
   "metadata": {},
   "outputs": [],
   "source": [
    "for vechicle in range(1, vehicle_count+1):\n",
    "    problem = pulp.LpProblem(\"CVRP\", pulp.LpMinimize)\n",
    "\n",
    "    x = [[[pulp.LpVariable(f\"x{i}{j}{k}\", cat=\"Binary\") if i != j else None \n",
    "                                                            for k in range(vehicle_count+1)] \n",
    "                                                            for j in range(customer_count)] \n",
    "                                                            for i in range(customer_count)]\n",
    "    ## Objective function\n",
    "    problem += pulp.lpSum(distance[i][j] * x[i][j][k] if i != j else 0 \n",
    "                                                            for k in range(vehicle_count)\n",
    "                                                            for j in range(customer_count)\n",
    "                                                            for i in range(customer_count))\n",
    "    \n",
    "    ## Constraints\n",
    "    ## Constraint 2\n",
    "    for j in range(1, customer_count):\n",
    "        problem += pulp.lpSum(x[i][j][k] if i != j else 0 \n",
    "                                                for i in range(customer_count)\n",
    "                                                 for k in range(vehicle_count)) == 1\n",
    "    \n",
    "    ## Constraint 3\n",
    "    for k in range(vehicle_count):\n",
    "        problem += pulp.lpSum(x[0][j][k] for j in range(1, customer_count)) == 1\n",
    "        problem += pulp.lpSum(x[i][0][k] for i in range(1, customer_count)) == 1\n",
    "\n",
    "    ## Constraint 4\n",
    "    for k in range(vehicle_count):\n",
    "        for j in range(customer_count):\n",
    "            problem += pulp.lpSum(x[i][j][k] if i != j else 0\n",
    "                                                for i in range(customer_count)) - pulp.lpSum(x[j][i][k] for i in range(customer_count)) == 0\n",
    "    \n",
    "    ## Constraint 5\n",
    "    for k in range(vehicle_count):\n",
    "        problem += pulp.lpSum(df.demand[j] * x[i][j][k] if i != j else 0 \n",
    "                                                            for i in range(customer_count)\n",
    "                                                            for j in range(1, customer_count)) <= vehicle_capacity\n",
    "    \n",
    "    ## Constraint 6\n",
    "    subtours = []\n",
    "    for i in range(2, customer_count):\n",
    "        subtours += itertools.combinations(range(1, customer_count), i)\n",
    "\n",
    "    for s in subtours:\n",
    "        problem += pulp.lpSum(x[i][j][k] if i != j else 0 for i, j in itertools.permutations(s,2) for k in range(vehicle_count)) <= len(s)-1\n",
    "\n",
    "\n",
    "    if problem.solve() == 1:\n",
    "        print(\"Vehicle Requirements:\", vehicle_count)\n",
    "        print(\"Vehicle Capacity:\", vehicle_capacity)\n",
    "        print(\"Distance:\", pulp.value(problem.objective))"
   ]
  }
 ],
 "metadata": {
  "kernelspec": {
   "display_name": "ds-comp",
   "language": "python",
   "name": "python3"
  },
  "language_info": {
   "codemirror_mode": {
    "name": "ipython",
    "version": 3
   },
   "file_extension": ".py",
   "mimetype": "text/x-python",
   "name": "python",
   "nbconvert_exporter": "python",
   "pygments_lexer": "ipython3",
   "version": "3.10.8"
  },
  "orig_nbformat": 4
 },
 "nbformat": 4,
 "nbformat_minor": 2
}
